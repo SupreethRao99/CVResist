{
  "nbformat": 4,
  "nbformat_minor": 0,
  "metadata": {
    "colab": {
      "name": "Week-1-Notes.ipynb",
      "provenance": [],
      "collapsed_sections": [],
      "authorship_tag": "ABX9TyOVyb1mny1JAWL8R6hGiGmt",
      "include_colab_link": true
    },
    "kernelspec": {
      "name": "python3",
      "display_name": "Python 3"
    },
    "language_info": {
      "name": "python"
    }
  },
  "cells": [
    {
      "cell_type": "markdown",
      "metadata": {
        "id": "view-in-github",
        "colab_type": "text"
      },
      "source": [
        "<a href=\"https://colab.research.google.com/github/SupreethRao99/CVResist/blob/master/Week_1_Notes.ipynb\" target=\"_parent\"><img src=\"https://colab.research.google.com/assets/colab-badge.svg\" alt=\"Open In Colab\"/></a>"
      ]
    },
    {
      "cell_type": "markdown",
      "metadata": {
        "id": "C1mQzr0Pft1u"
      },
      "source": [
        "# A Quick Introduction to Variables"
      ]
    },
    {
      "cell_type": "markdown",
      "metadata": {
        "id": "wx8szcwWg15m"
      },
      "source": [
        "Variables are containers that can store various types of values. in Python Variables are declared either by using it or by explicitly defining it. Let us take a look at an example where variables are used"
      ]
    },
    {
      "cell_type": "code",
      "metadata": {
        "colab": {
          "base_uri": "https://localhost:8080/"
        },
        "id": "-U-el2gmiPwP",
        "outputId": "326cd351-54dc-4c07-b29f-898b305ec605"
      },
      "source": [
        "a = int(input('Enter a number')) #accepting an Integer\n",
        "print(a) #displaying the number provided by the user\n",
        "a = a + 1 #incrementing the variable by 1\n",
        "b = a * 10 #performing multiplication and storing it in another variable\n",
        "c = a + b #performing addition on variables\n",
        "print(\"Value of variable c is\",c)"
      ],
      "execution_count": 7,
      "outputs": [
        {
          "output_type": "stream",
          "text": [
            "Enter a number4\n",
            "4\n",
            "Value of variable c is 55\n"
          ],
          "name": "stdout"
        }
      ]
    },
    {
      "cell_type": "markdown",
      "metadata": {
        "id": "EHbAfv3tkr9x"
      },
      "source": [
        "# Variables and Input Statements"
      ]
    },
    {
      "cell_type": "markdown",
      "metadata": {
        "id": "do6Orauml0Sh"
      },
      "source": [
        "The computer can accept variables of various formats this helps us in achieving various goals. The standard method of accepting a value in Python3 is to use the [`input()`](https://docs.python.org/3/library/functions.html#input)  method. more can be found out about it in the Python3 [docs](https://docs.python.org/3/)."
      ]
    },
    {
      "cell_type": "code",
      "metadata": {
        "colab": {
          "base_uri": "https://localhost:8080/"
        },
        "id": "WwFNKrzmnTUQ",
        "outputId": "cc0fc2c5-c353-42a6-ebc0-e5043138fdee"
      },
      "source": [
        "name = str(input(\"enter your name \"))\n",
        "print(name)"
      ],
      "execution_count": 8,
      "outputs": [
        {
          "output_type": "stream",
          "text": [
            "enter your name Supreeth Rao\n",
            "Supreeth Rao\n"
          ],
          "name": "stdout"
        }
      ]
    },
    {
      "cell_type": "markdown",
      "metadata": {
        "id": "GdTWJ1i-nj0z"
      },
      "source": [
        "# Variables and Literals"
      ]
    },
    {
      "cell_type": "markdown",
      "metadata": {
        "id": "ABzqKcLgnqDW"
      },
      "source": [
        "As opposed to variables, Literals are constant values who values cannot change. Literals are of various type. We can have `String`, `Integer`, `Float` and many other types of literals."
      ]
    },
    {
      "cell_type": "code",
      "metadata": {
        "colab": {
          "base_uri": "https://localhost:8080/"
        },
        "id": "L2N0CB3Vodsj",
        "outputId": "df7fbad2-7861-41de-fbcd-e3d231e52412"
      },
      "source": [
        "r = int(input(\"Enter the radius of the circle\"))\n",
        "area = 3.14 * r * r #3.14 is a Literal and r is a variable\n",
        "print('Area of circle is',area)"
      ],
      "execution_count": 9,
      "outputs": [
        {
          "output_type": "stream",
          "text": [
            "Enter the radius of the circle2\n",
            "Area of circle is 12.56\n"
          ],
          "name": "stdout"
        }
      ]
    },
    {
      "cell_type": "markdown",
      "metadata": {
        "id": "f2UdAdZWpUkf"
      },
      "source": [
        "# Data Types"
      ]
    },
    {
      "cell_type": "markdown",
      "metadata": {
        "id": "26IWjrVtqwL5"
      },
      "source": [
        "A data type or simply type is an attribute of data which tells the compiler or interpreter how the programmer intends to use the data. Python offers the following datatypes"
      ]
    },
    {
      "cell_type": "markdown",
      "metadata": {
        "id": "2gp9bkJ6sCU3"
      },
      "source": [
        "Data type   | Example\n",
        "-------------------|------------------\n",
        "Text Type       | `str`\n",
        "Numeric Type       | `int`,`float`,`complex`\n",
        "Sequence Type     | `list`,`tuple`,`range`\n",
        "Mapping Type | `dict`\n",
        "Set Type | `set`,`frozenset`\n",
        "Boolean Type |`bool`\n",
        "Binary Type | `bytes`,`bytearray`,`memoryview`"
      ]
    },
    {
      "cell_type": "code",
      "metadata": {
        "colab": {
          "base_uri": "https://localhost:8080/"
        },
        "id": "1DliSi4LpZG4",
        "outputId": "f3d02291-6c46-4289-8203-a7bd5ae07530"
      },
      "source": [
        "datatypeList = ['abc', 123, 534.234, 2+6j, False]\n",
        "print(type(datatypeList))\n",
        "for i in datatypeList:\n",
        "  print(type(i))"
      ],
      "execution_count": 11,
      "outputs": [
        {
          "output_type": "stream",
          "text": [
            "<class 'list'>\n",
            "<class 'str'>\n",
            "<class 'int'>\n",
            "<class 'float'>\n",
            "<class 'complex'>\n",
            "<class 'bool'>\n"
          ],
          "name": "stdout"
        }
      ]
    },
    {
      "cell_type": "markdown",
      "metadata": {
        "id": "QJEB6tQpu7du"
      },
      "source": [
        "Python3 supports type casting. a few examples are seen below"
      ]
    },
    {
      "cell_type": "code",
      "metadata": {
        "colab": {
          "base_uri": "https://localhost:8080/"
        },
        "id": "MMF-_ITCtrrm",
        "outputId": "1c537338-e8b3-4003-fdcf-6070caddb455"
      },
      "source": [
        "a = str(123)\n",
        "print(type(a))\n",
        "# all non empty strings are evaluated to be true"
      ],
      "execution_count": 13,
      "outputs": [
        {
          "output_type": "stream",
          "text": [
            "<class 'str'>\n"
          ],
          "name": "stdout"
        }
      ]
    },
    {
      "cell_type": "markdown",
      "metadata": {
        "id": "67tImTY4xh-E"
      },
      "source": [
        "# Operators and Expressions"
      ]
    },
    {
      "cell_type": "markdown",
      "metadata": {
        "id": "glRnBKEQxkwY"
      },
      "source": [
        "Python offers the following arithmetic operators `+,-,*,/,//,%, **`"
      ]
    },
    {
      "cell_type": "code",
      "metadata": {
        "colab": {
          "base_uri": "https://localhost:8080/"
        },
        "id": "d1BE13Eax3wL",
        "outputId": "ad4a66cb-c47e-49ed-84e3-4d1ddc8929af"
      },
      "source": [
        "print(\"Addition\", 2+3)\n",
        "print(\"Subtraction\", 6-5)\n",
        "print(\"Multiplication\", 2*5)\n",
        "print(\"Division\", 5/6)\n",
        "print(\"Floor Division\", 7//2)\n",
        "print(\"Modulus\", 23%5)\n",
        "print(\"Exponentiation\", 2**3)"
      ],
      "execution_count": 14,
      "outputs": [
        {
          "output_type": "stream",
          "text": [
            "Addition 5\n",
            "Subtraction 1\n",
            "Multiplication 10\n",
            "Division 0.8333333333333334\n",
            "Floor Division 3\n",
            "Modulus 3\n",
            "Exponentiation 8\n"
          ],
          "name": "stdout"
        }
      ]
    },
    {
      "cell_type": "markdown",
      "metadata": {
        "id": "SSIlubZnyfgj"
      },
      "source": [
        "Python offers the following relational operators `>,<,>=,<=, ==, !=`"
      ]
    },
    {
      "cell_type": "code",
      "metadata": {
        "colab": {
          "base_uri": "https://localhost:8080/"
        },
        "id": "JJXTs9XEyrwR",
        "outputId": "7d4fe382-cd23-4487-ceb8-18c88ec3abcd"
      },
      "source": [
        "print(5 < 5) # less than\n",
        "print(6 > 5) # greater than\n",
        "print(5 <= 5) # less than equal to\n",
        "print(3 >= 5) # greater than equal to\n",
        "print(4 == 4) # strictly equal to\n",
        "print(3 != 5) # not equal to"
      ],
      "execution_count": 15,
      "outputs": [
        {
          "output_type": "stream",
          "text": [
            "False\n",
            "True\n",
            "True\n",
            "False\n",
            "True\n",
            "True\n"
          ],
          "name": "stdout"
        }
      ]
    },
    {
      "cell_type": "markdown",
      "metadata": {
        "id": "r4UjXAYrzLlN"
      },
      "source": [
        "Python offers the following Logical operators `and, or , not`"
      ]
    },
    {
      "cell_type": "code",
      "metadata": {
        "colab": {
          "base_uri": "https://localhost:8080/"
        },
        "id": "FJ3jGmAJzTf-",
        "outputId": "13d898af-9015-4e81-9677-fc21f8c4bac2"
      },
      "source": [
        "# Logical AND operator\n",
        "print(False and False)\n",
        "print(False and True)\n",
        "print(True and False)\n",
        "print(True and True)\n",
        "print() # blank print statement for line break\n",
        "#Logical OR operator\n",
        "print(False or False)\n",
        "print(False or True)\n",
        "print(True or False)\n",
        "print(True or True)\n",
        "print() # blank print statement for line break\n",
        "#logical NOT operator\n",
        "print(not True)\n",
        "print(not False)"
      ],
      "execution_count": 17,
      "outputs": [
        {
          "output_type": "stream",
          "text": [
            "False\n",
            "False\n",
            "False\n",
            "True\n",
            "\n",
            "False\n",
            "True\n",
            "True\n",
            "True\n",
            "\n",
            "False\n",
            "True\n"
          ],
          "name": "stdout"
        }
      ]
    },
    {
      "cell_type": "markdown",
      "metadata": {
        "id": "TUselzEA0F_D"
      },
      "source": [
        "# Strings"
      ]
    },
    {
      "cell_type": "markdown",
      "metadata": {
        "id": "S7nP70os0neI"
      },
      "source": [
        "Strings are a case-sensitive collection of characters, they can contain any combination of alphanumeric characters. Strings can be concatenated and sliced. Python3 also supports negaitve slices."
      ]
    },
    {
      "cell_type": "code",
      "metadata": {
        "colab": {
          "base_uri": "https://localhost:8080/"
        },
        "id": "fchJGu4wz4Mj",
        "outputId": "217baf53-f837-4f06-8fd0-ffc2f887e72f"
      },
      "source": [
        "str = 'Hello world'\n",
        "str = str + ', this is a test sentence'\n",
        "print(str[5:11])\n",
        "print(str[-6:-1])"
      ],
      "execution_count": 31,
      "outputs": [
        {
          "output_type": "stream",
          "text": [
            " world\n",
            "ntenc\n"
          ],
          "name": "stdout"
        }
      ]
    },
    {
      "cell_type": "markdown",
      "metadata": {
        "id": "klE17CyF16GW"
      },
      "source": [
        "strings can be replicated or broadcasted by using the `*`. Strings can be lexicographically compared using any of the logical operators"
      ]
    },
    {
      "cell_type": "code",
      "metadata": {
        "colab": {
          "base_uri": "https://localhost:8080/"
        },
        "id": "dWmSLvko2cje",
        "outputId": "b368db54-0388-44b9-88f5-66936ef51882"
      },
      "source": [
        "str = 'abc'\n",
        "print(str*5)\n",
        "print('abc'<'xyz')"
      ],
      "execution_count": 20,
      "outputs": [
        {
          "output_type": "stream",
          "text": [
            "abcabcabcabcabc\n",
            "True\n"
          ],
          "name": "stdout"
        }
      ]
    },
    {
      "cell_type": "markdown",
      "metadata": {
        "id": "DQu6CtFQ3cTZ"
      },
      "source": [
        "length of a string can be found using the `len()` method"
      ]
    },
    {
      "cell_type": "code",
      "metadata": {
        "colab": {
          "base_uri": "https://localhost:8080/"
        },
        "id": "8D3nn8jg2kQg",
        "outputId": "952af5a2-9712-4488-d146-17161e8ab1d2"
      },
      "source": [
        "str = \"The Quick Brown Fox Jumped Over the Lazy Dog\"\n",
        "print(len(str))"
      ],
      "execution_count": 32,
      "outputs": [
        {
          "output_type": "stream",
          "text": [
            "44\n"
          ],
          "name": "stdout"
        }
      ]
    },
    {
      "cell_type": "markdown",
      "metadata": {
        "id": "den5yWpk3Cf2"
      },
      "source": [
        ""
      ]
    }
  ]
}